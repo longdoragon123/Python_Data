{
 "cells": [
  {
   "cell_type": "code",
   "execution_count": 3,
   "id": "1cf522e8-1f68-430f-9d08-652dbdf21bd7",
   "metadata": {},
   "outputs": [
    {
     "name": "stdout",
     "output_type": "stream",
     "text": [
      "['fashion', 'Sale', 'Thể thao', 'Váy']\n",
      "C:\\Users\\admin\\Documents\\test\\Transfered\\fashion\\combine_txt.txt\n",
      "C:\\Users\\admin\\Documents\\test\\Transfered\\Sale\\combine_txt.txt\n",
      "C:\\Users\\admin\\Documents\\test\\Transfered\\Thể thao\\combine_txt.txt\n",
      "C:\\Users\\admin\\Documents\\test\\Transfered\\Váy\\combine_txt.txt\n"
     ]
    }
   ],
   "source": [
    "import pandas as pd\n",
    "import glob, os\n",
    "\n",
    "paths = r'C:\\Users\\admin\\Documents\\test\\Raw data'\n",
    "my_list = os.listdir(paths)\n",
    "print(my_list)\n",
    "output = r'C:\\Users\\admin\\Documents\\test\\Transfered'\n",
    "combine = 'combine_txt.txt'\n",
    "\n",
    "#csv file name to be read in\n",
    "def convert_to_multiple_files(in_file):\n",
    "    \n",
    "    number_lines = sum(1 for row in (open(in_file)))\n",
    "    rowsize = 200000\n",
    "    #start looping through data writing it to a new file for each set\n",
    "    for i in range(0,number_lines,rowsize):\n",
    "        df_split = pd.read_csv(in_file, dtype ='str',\n",
    "              nrows = rowsize,#number of rows to read at each loop\n",
    "              skiprows = i)#skip rows that have been read\n",
    "        #csv to write data to a new file with indexed name. input_1.csv etc.\n",
    "        out_csv = f'{d}\\\\Combine_' + str(i) + '.txt' \n",
    "        df_split.to_csv(out_csv,\n",
    "              index=False,\n",
    "              header=True,\n",
    "              mode='a',#append data to csv file\n",
    "              chunksize=rowsize)#size of data to append for each loop\n",
    "\n",
    "for list_1 in my_list:\n",
    "    os.mkdir(f'{output}\\\\{list_1}')\n",
    "    d = f'{output}\\\\{list_1}'\n",
    "    # print(d)\n",
    "    my_list_1 = os.listdir(r'{}\\{}'.format(paths, list_1))\n",
    "    \n",
    "    for list_2 in my_list_1:\n",
    "        df = pd.read_csv(r'{}\\{}\\{}'.format(paths,list_1,list_2), names = ['Uid'])\n",
    "        df_to_txt = df['Uid'].to_csv(f'{d}\\\\{list_2[:-4]}.txt',index=None )\n",
    "        \n",
    "        files = os.path.join(r'{}'.format(d), \"*.txt\")\n",
    "        files = glob.glob(files)\n",
    "        df = pd.concat(map(pd.read_csv, files), ignore_index=True)\n",
    "        # print(files)\n",
    "        \n",
    "        filelist = glob.glob(os.path.join(d, \"*.txt\"))\n",
    "        for f in filelist:\n",
    "            os.remove(f)\n",
    "            \n",
    "        df.to_csv( f'{d}\\\\{combine}', index=False)\n",
    "    path_combine = f'{d}\\\\{combine}'\n",
    "    print(path_combine)\n",
    "    \n",
    "    convert_to_multiple_files(path_combine)\n",
    "    filelist = glob.glob(os.path.join(d, \"*_txt.txt\"))\n",
    "    for f in filelist:\n",
    "        os.remove(f)\n",
    "        \n"
   ]
  },
  {
   "cell_type": "code",
   "execution_count": 8,
   "id": "c1763649-ba9a-47f8-9cc3-b2fcf5a23a37",
   "metadata": {},
   "outputs": [
    {
     "name": "stdout",
     "output_type": "stream",
     "text": [
      "['fashion', 'Sale', 'Thể thao', 'Váy']\n"
     ]
    }
   ],
   "source": [
    "import glob, os\n",
    "\n",
    "paths = r'C:\\Users\\admin\\Documents\\test\\Raw data'\n",
    "my_list = os.listdir(paths)\n",
    "print(my_list)"
   ]
  },
  {
   "cell_type": "code",
   "execution_count": null,
   "id": "bd8c79f1",
   "metadata": {},
   "outputs": [],
   "source": []
  }
 ],
 "metadata": {
  "kernelspec": {
   "display_name": "Python 3.10.4 64-bit",
   "language": "python",
   "name": "python3"
  },
  "language_info": {
   "codemirror_mode": {
    "name": "ipython",
    "version": 3
   },
   "file_extension": ".py",
   "mimetype": "text/x-python",
   "name": "python",
   "nbconvert_exporter": "python",
   "pygments_lexer": "ipython3",
   "version": "3.10.4"
  },
  "vscode": {
   "interpreter": {
    "hash": "beedbe2faf2f7048d727558d0bc3221e7eba2a0b921cac4d4771b2feb8f74b30"
   }
  }
 },
 "nbformat": 4,
 "nbformat_minor": 5
}
